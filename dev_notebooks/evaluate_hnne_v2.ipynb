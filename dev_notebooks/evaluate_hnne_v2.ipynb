{
 "cells": [
  {
   "cell_type": "markdown",
   "id": "321269c1-eb43-4dad-8577-e19d61acb614",
   "metadata": {},
   "source": [
    "# Evaluate hnne v2"
   ]
  },
  {
   "cell_type": "code",
   "execution_count": 1,
   "id": "98ac9afc-13fa-425c-bbec-07ee7376d51e",
   "metadata": {},
   "outputs": [],
   "source": [
    "%load_ext autoreload\n",
    "%autoreload 2"
   ]
  },
  {
   "cell_type": "code",
   "execution_count": 5,
   "id": "3c1c579c-8a5d-4e4b-afbb-654d538f66bf",
   "metadata": {},
   "outputs": [],
   "source": [
    "from pathlib import Path\n",
    "import numpy as np\n",
    "import matplotlib.pyplot as plt\n",
    "import pandas as pd\n",
    "\n",
    "from hnne import HNNE as HNNE_ORIG\n",
    "from hnne_v2 import HNNE as HNNE_V2\n",
    "from benchmarking.evaluation import dim_reduction_benchmark\n",
    "from benchmarking.data import (\n",
    "    validation_ranges_small,\n",
    "    load_coil20, \n",
    "    load_shuttle, \n",
    "    load_mnist,\n",
    "    load_fmnist,\n",
    "    load_imagenet_test,\n",
    "    load_cifar_10,\n",
    "    load_bbt,\n",
    "    load_buffy,\n",
    "    load_imagenet_train,\n",
    "    load_google_news,\n",
    "    load_higgs\n",
    ")"
   ]
  },
  {
   "cell_type": "code",
   "execution_count": 9,
   "id": "6e01d05c-295a-4b5f-a3fe-3ea6b7dfbeac",
   "metadata": {},
   "outputs": [],
   "source": [
    "DATA_PATH = Path(\"/home/marios/datasets/hnne_datasets\")\n",
    "PROJ_PATH = DATA_PATH / \"projections\"\n",
    "cmap = \"tab20\""
   ]
  },
  {
   "cell_type": "code",
   "execution_count": 20,
   "id": "38958e8e-2b18-477e-81d4-62220b310a1b",
   "metadata": {},
   "outputs": [],
   "source": [
    "knn_values = validation_ranges_small\n",
    "compute_trustworthiness = True\n",
    "n_splits = 5\n",
    "scores = {}"
   ]
  },
  {
   "cell_type": "markdown",
   "id": "ef0a684f-3a47-4f30-af66-57b4d9d8e95e",
   "metadata": {},
   "source": [
    "## Coil-20"
   ]
  },
  {
   "cell_type": "code",
   "execution_count": 7,
   "id": "659d6c0b-b52b-4fba-bd7e-e29b92e45af1",
   "metadata": {},
   "outputs": [
    {
     "name": "stdout",
     "output_type": "stream",
     "text": [
      "(1440, 16384) (1440,)\n"
     ]
    }
   ],
   "source": [
    "dataset_name = \"COIL-20\"\n",
    "data, labels = load_coil20(DATA_PATH)\n",
    "print(data.shape, labels.shape)"
   ]
  },
  {
   "cell_type": "code",
   "execution_count": 12,
   "id": "609fce5a-a20a-4524-a0a7-694cab032a62",
   "metadata": {},
   "outputs": [],
   "source": [
    "projections = np.load(PROJ_PATH / f\"{dataset_name}.npz\")\n",
    "proj, proj_new, proj_v2 = projections[\"proj\"], projections[\"proj_new\"], projections[\"proj_v2\"]"
   ]
  },
  {
   "cell_type": "code",
   "execution_count": 21,
   "id": "2cb312c8-0ce7-4ad5-b97c-f85df452381e",
   "metadata": {},
   "outputs": [
    {
     "data": {
      "text/plain": [
       "{1: array([0.95833333, 0.94097222, 0.96527778, 0.96180556, 0.95833333]),\n",
       " 10: array([0.89583333, 0.87152778, 0.91319444, 0.94097222, 0.88541667]),\n",
       " 20: array([0.80902778, 0.8125    , 0.85416667, 0.85069444, 0.82986111]),\n",
       " 40: array([0.70833333, 0.71875   , 0.73263889, 0.74305556, 0.72222222])}"
      ]
     },
     "execution_count": 21,
     "metadata": {},
     "output_type": "execute_result"
    }
   ],
   "source": [
    "proj_knn_acc"
   ]
  },
  {
   "cell_type": "code",
   "execution_count": 19,
   "id": "b297ab3d-f0b2-4936-9081-e242eb667084",
   "metadata": {},
   "outputs": [
    {
     "name": "stderr",
     "output_type": "stream",
     "text": [
      "100%|██████████████████████████████████████████████████████████████████████████████████████| 20/20 [00:00<00:00, 47.94it/s]"
     ]
    },
    {
     "name": "stdout",
     "output_type": "stream",
     "text": [
      "CPU times: user 278 ms, sys: 79.2 ms, total: 357 ms\n",
      "Wall time: 418 ms\n"
     ]
    },
    {
     "name": "stderr",
     "output_type": "stream",
     "text": [
      "\n"
     ]
    }
   ],
   "source": [
    "%%time \n",
    "proj_knn_acc, tw = dim_reduction_benchmark(\n",
    "    k_values=knn_values,\n",
    "    data=data,\n",
    "    embedding=proj,\n",
    "    labels=labels,\n",
    "    compute_trustworthiness=compute_trustworthiness,\n",
    "    n_splits=n_splits\n",
    ")\n",
    "\n",
    "scores[dataset_name] = {\n",
    "    \"hnne\": {**{k: v.mean() for k, v in proj_knn_acc}, \"tw\": tw}\n",
    "}"
   ]
  },
  {
   "cell_type": "code",
   "execution_count": 22,
   "id": "b9aefbe8-722f-47d6-9cb2-cd9632fff348",
   "metadata": {},
   "outputs": [
    {
     "name": "stderr",
     "output_type": "stream",
     "text": [
      "100%|██████████████████████████████████████████████████████████████████████████████████████| 20/20 [00:04<00:00,  4.94it/s]\n"
     ]
    },
    {
     "ename": "TypeError",
     "evalue": "cannot unpack non-iterable int object",
     "output_type": "error",
     "traceback": [
      "\u001b[0;31m---------------------------------------------------------------------------\u001b[0m",
      "\u001b[0;31mTypeError\u001b[0m                                 Traceback (most recent call last)",
      "File \u001b[0;32m<timed exec>:11\u001b[0m\n",
      "File \u001b[0;32m<timed exec>:11\u001b[0m, in \u001b[0;36m<dictcomp>\u001b[0;34m(.0)\u001b[0m\n",
      "\u001b[0;31mTypeError\u001b[0m: cannot unpack non-iterable int object"
     ]
    }
   ],
   "source": [
    "%%time \n",
    "proj_knn_acc, tw = dim_reduction_benchmark(\n",
    "    k_values=knn_values,\n",
    "    data=data,\n",
    "    embedding=proj_new,\n",
    "    labels=labels,\n",
    "    compute_trustworthiness=compute_trustworthiness,\n",
    "    n_splits=n_splits\n",
    ")\n",
    "\n",
    "scores[dataset_name] = {\n",
    "    \"hnne_new\": {**{k: v.mean() for k, v in proj_knn_acc}, \"tw\": tw}\n",
    "}"
   ]
  },
  {
   "cell_type": "code",
   "execution_count": 19,
   "id": "d0c3e300-6c04-4d25-9eda-b07f16f3e816",
   "metadata": {},
   "outputs": [
    {
     "name": "stderr",
     "output_type": "stream",
     "text": [
      "100%|██████████████████████████████████████████████████████████████████████████████████████| 20/20 [00:00<00:00, 47.94it/s]"
     ]
    },
    {
     "name": "stdout",
     "output_type": "stream",
     "text": [
      "CPU times: user 278 ms, sys: 79.2 ms, total: 357 ms\n",
      "Wall time: 418 ms\n"
     ]
    },
    {
     "name": "stderr",
     "output_type": "stream",
     "text": [
      "\n"
     ]
    }
   ],
   "source": [
    "%%time \n",
    "proj_knn_acc, tw = dim_reduction_benchmark(\n",
    "    k_values=knn_values,\n",
    "    data=data,\n",
    "    embedding=proj,\n",
    "    labels=labels,\n",
    "    compute_trustworthiness=compute_trustworthiness,\n",
    "    n_splits=n_splits\n",
    ")\n",
    "\n",
    "scores[dataset_name] = {\n",
    "    \"hnne\": {**{k: v.mean() for k, v in proj_knn_acc}, \"tw\": tw}\n",
    "}"
   ]
  },
  {
   "cell_type": "code",
   "execution_count": null,
   "id": "a0ed4bbb-08dc-40cf-991f-f9ce19ce9830",
   "metadata": {},
   "outputs": [],
   "source": [
    "scores[\"coil_20\"] = {\n",
    "    proj_knn_acc\n",
    "}"
   ]
  }
 ],
 "metadata": {
  "kernelspec": {
   "display_name": "hnne",
   "language": "python",
   "name": "hnne"
  },
  "language_info": {
   "codemirror_mode": {
    "name": "ipython",
    "version": 3
   },
   "file_extension": ".py",
   "mimetype": "text/x-python",
   "name": "python",
   "nbconvert_exporter": "python",
   "pygments_lexer": "ipython3",
   "version": "3.10.9"
  }
 },
 "nbformat": 4,
 "nbformat_minor": 5
}

{
 "cells": [
  {
   "cell_type": "code",
   "execution_count": 1,
   "id": "2b82f821-b011-4834-bc21-6b444d42eeb1",
   "metadata": {},
   "outputs": [],
   "source": [
    "%reload_ext autoreload\n",
    "%autoreload 0"
   ]
  },
  {
   "cell_type": "raw",
   "id": "2cb3d28d-8938-40ac-b7dd-def5ef1d8299",
   "metadata": {},
   "source": []
  },
  {
   "cell_type": "code",
   "execution_count": 2,
   "id": "0ed6feb5-b699-4d0b-89f8-ca5f8c430b1f",
   "metadata": {},
   "outputs": [],
   "source": [
    "import sys\n",
    "from pathlib import Path\n",
    "module_path = str(Path.cwd().parents[0])\n",
    "if module_path not in sys.path:\n",
    "    sys.path.append(module_path)"
   ]
  },
  {
   "cell_type": "code",
   "execution_count": 3,
   "id": "803954ba-e0d7-4f53-883a-2c23608d1221",
   "metadata": {
    "tags": []
   },
   "outputs": [],
   "source": [
    "import time\n",
    "import numpy as np\n",
    "import matplotlib.pyplot as plt\n",
    "from benchmarking.data import dataset_loaders, DatasetGroup\n",
    "from benchmarking.run_benchmarks import run_eval\n",
    "from benchmarking.utils import combine_method_overviews_from_csv\n",
    "from hnne.finch_clustering import FINCH"
   ]
  },
  {
   "cell_type": "code",
   "execution_count": 4,
   "id": "7d8200cf-416b-41c2-b2f9-c43092daf342",
   "metadata": {
    "scrolled": true
   },
   "outputs": [
    {
     "data": {
      "text/plain": [
       "dict_keys(['imagenet_test', 'cifar_10', 'bbt', 'buffy'])"
      ]
     },
     "execution_count": 4,
     "metadata": {},
     "output_type": "execute_result"
    }
   ],
   "source": [
    "data_path = Path(module_path, 'hnne_datasets')\n",
    "## Load small, medium or large datasets, see ./hnne/benchmarking/data.py\n",
    "loaders = dataset_loaders(dataset_group=DatasetGroup.medium)\n",
    "loaders.keys()"
   ]
  },
  {
   "cell_type": "code",
   "execution_count": 5,
   "id": "5afca92f-f983-4ea4-b13e-edebb2f20472",
   "metadata": {},
   "outputs": [
    {
     "data": {
      "text/plain": [
       "(50000, 2048)"
      ]
     },
     "execution_count": 5,
     "metadata": {},
     "output_type": "execute_result"
    }
   ],
   "source": [
    "random_state=42\n",
    "dataset_name = 'imagenet_test' \n",
    "data, targets = loaders[dataset_name](data_path)\n",
    "data.shape"
   ]
  },
  {
   "cell_type": "code",
   "execution_count": 6,
   "id": "d56765a1-9aaf-409e-a291-b0219fdb6c1d",
   "metadata": {},
   "outputs": [
    {
     "name": "stdout",
     "output_type": "stream",
     "text": [
      "[FINCH] PyNNDescent (k=2, n=50000, metric='cosine')\n",
      "Fri Oct 17 16:47:46 2025 Building RP forest with 20 trees\n"
     ]
    },
    {
     "name": "stderr",
     "output_type": "stream",
     "text": [
      "OMP: Info #276: omp_set_nested routine deprecated, please use omp_set_max_active_levels instead.\n"
     ]
    },
    {
     "name": "stdout",
     "output_type": "stream",
     "text": [
      "Fri Oct 17 16:47:49 2025 NN descent for 16 iterations\n",
      "\t 1  /  16\n",
      "\t 2  /  16\n",
      "\t 3  /  16\n",
      "\t 4  /  16\n",
      "\tStopping threshold met -- exiting after 4 iterations\n",
      "Level 0: 7821 clusters\n",
      "Level 1: 1256 clusters\n",
      "Level 2: 265 clusters\n",
      "Level 3: 46 clusters\n",
      "Level 4: 10 clusters\n",
      "Level 5: 3 clusters\n",
      "CPU times: user 27.7 s, sys: 7.06 s, total: 34.8 s\n",
      "Wall time: 9.96 s\n"
     ]
    }
   ],
   "source": [
    "%%time\n",
    "partitions, requested_partition, partition_sizes, partition_labels, lowest_level_centroids = FINCH(data, distance='cosine',\n",
    "                                                                                                   ann_threshold=10_000 ,\n",
    "                                                                                                   faiss_threshold=100_000, faiss_use_gpu=False, verbose=True,\n",
    "                                                                                                   random_state=random_state)\n",
    "finch_output = [partitions,requested_partition, partition_sizes, partition_labels]"
   ]
  },
  {
   "cell_type": "code",
   "execution_count": null,
   "id": "80725142-11c0-470a-a853-92aac3e51653",
   "metadata": {},
   "outputs": [],
   "source": [
    "partition_sizes"
   ]
  },
  {
   "cell_type": "code",
   "execution_count": null,
   "id": "4edf2e80-5668-467f-ba9e-0bbd77decaab",
   "metadata": {},
   "outputs": [],
   "source": []
  }
 ],
 "metadata": {
  "kernelspec": {
   "display_name": "Python 3 (ipykernel)",
   "language": "python",
   "name": "python3"
  },
  "language_info": {
   "codemirror_mode": {
    "name": "ipython",
    "version": 3
   },
   "file_extension": ".py",
   "mimetype": "text/x-python",
   "name": "python",
   "nbconvert_exporter": "python",
   "pygments_lexer": "ipython3",
   "version": "3.10.16"
  }
 },
 "nbformat": 4,
 "nbformat_minor": 5
}

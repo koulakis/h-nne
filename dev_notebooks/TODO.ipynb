{
 "cells": [
  {
   "cell_type": "code",
   "execution_count": 1,
   "id": "dd0399cf-18cc-45e2-91fc-bd66f11eb5e7",
   "metadata": {},
   "outputs": [],
   "source": [
    "%load_ext autoreload\n",
    "%autoreload 2"
   ]
  },
  {
   "cell_type": "code",
   "execution_count": 2,
   "id": "c6f41308-61ca-444f-8cfa-57be657a10ae",
   "metadata": {},
   "outputs": [],
   "source": [
    "import sys\n",
    "from pathlib import Path\n",
    "module_path = str(Path.cwd().parents[0])\n",
    "if module_path not in sys.path:\n",
    "    sys.path.append(module_path)"
   ]
  },
  {
   "cell_type": "code",
   "execution_count": 3,
   "id": "6b56fe55-3468-459b-ae02-b5c338249817",
   "metadata": {
    "tags": []
   },
   "outputs": [],
   "source": [
    "import time\n",
    "import numpy as np\n",
    "from sklearn.decomposition import PCA\n",
    "import matplotlib.pyplot as plt\n",
    "from benchmarking.data import dataset_loaders, DatasetGroup\n",
    "from hnne.v2_plotter import format_time, format_count, plot_projection_grid, plot_v2_nested_2d, plot_layout_level_2d\n",
    "from hnne.hierarchical_projection import multi_step_projection\n",
    "from hnne.projector import HNNE"
   ]
  },
  {
   "cell_type": "markdown",
   "id": "f25b1bd6-4018-47ff-9c22-325062dbbf28",
   "metadata": {},
   "source": [
    "# Motivation\n",
    "#### Goal: finalize and prepare for main branch merge (incl. updated docs, updated docstrings and example visulaization image for read me etc,.) by next week (07.10.25)\n",
    "\n",
    "1. Guiding principal: auto fix start and end levels dependign on the data size and expected visual apparance\n",
    "2. Impact on performance: depending on different start and end v2 levels\n",
    "3. deep level start performance drop vs coarse level\n",
    "\n"
   ]
  },
  {
   "cell_type": "markdown",
   "id": "7b2267cf-0c1c-436d-929a-3f9994d8e324",
   "metadata": {},
   "source": [
    "## TODO Constantin"
   ]
  },
  {
   "cell_type": "markdown",
   "id": "f6999a5f-b15c-4a9c-a4ca-e6355c0710d1",
   "metadata": {},
   "source": [
    "1. check if perfomance is about the same with new move logic vs the old one. params: v2=True, and  v1_behaviour=True vs v1_behaviour=False -- just run on some small or mediium dataset/s (if its similar then we remove the old move_points)\n",
    "2. performance comparison of h-NNE vs h-NNE (v2)@ different values of start_cluster_view=None, v2_size_threshold=None (top 2 , top 3, deeper level start etc,.)\n",
    "3. based on above, we can have a default settings for these params as a function of data size, see what insights can help us here.\n",
    "4. find a very large dataset (order of more than > 10 or 20 million, wikimedia or any other wellknown), run and save finch output, then use few deeper levels satart and save projections. we can use this as example on repo and other places.\n",
    "\n",
    "######## Note:  there is exisitng dataloader and datset set logic (see the the folder benchmarking)"
   ]
  },
  {
   "cell_type": "markdown",
   "id": "0205ce66-b4ff-45a3-9b8c-44f246ea493f",
   "metadata": {},
   "source": [
    "## TODO Marios"
   ]
  },
  {
   "cell_type": "markdown",
   "id": "6bfd52f4-d16e-4b31-8442-56b5f9f9ba0e",
   "metadata": {},
   "source": [
    "1. prepare for main PR, update notebooks, update read me, update docs\n",
    "2. add some new notebook/s demonstrating visualization choices with params:: prefered_num_clust=None, start_cluster_view=None, v2_size_threshold=None\n",
    "3. Review the code and see if everythign works as expected with fit_transform anf transform etc.\n",
    "4. any other things you think makes sense to check/include before going public"
   ]
  },
  {
   "cell_type": "markdown",
   "id": "f42732b8-f822-4b27-a5db-db4dd494a6a5",
   "metadata": {},
   "source": [
    "## TODO Saquib\n",
    "\n",
    "1.  run some benchmarks along the lines as abbove on few datasets (sanity)\n",
    "2.  re-evaluate the current v2 input params in HNNE init and remove those not necassary or user does not need to touch\n",
    "3.  some cleanup in hierarchical_projection.py\n",
    "4.  @ Marios/Constantin: please add any other thing here (that you think I need to do)?"
   ]
  },
  {
   "cell_type": "code",
   "execution_count": null,
   "id": "3f4f9cb8-0e58-45dc-aafd-d817f4e82e52",
   "metadata": {},
   "outputs": [],
   "source": []
  },
  {
   "cell_type": "markdown",
   "id": "b06a34fb-d3cf-4adc-ae6a-840d6cf1c849",
   "metadata": {},
   "source": [
    "### Dowload all hnne datasets as used in the paper as tar file (https://bwsyncandshare.kit.edu/s/Bp4gwZ4xcgj7otG). see the example loader below"
   ]
  },
  {
   "cell_type": "code",
   "execution_count": 43,
   "id": "2a36d1bb-acf5-413c-84fe-adfe0ccf82c5",
   "metadata": {},
   "outputs": [
    {
     "data": {
      "text/plain": [
       "dict_keys(['coil_20', 'shuttle', 'mnist', 'fmnist'])"
      ]
     },
     "execution_count": 43,
     "metadata": {},
     "output_type": "execute_result"
    }
   ],
   "source": [
    "data_path = Path(module_path, 'hnne_datasets')\n",
    "## Load small, medium or large datasets, see ./hnne/benchmarking/data.py\n",
    "loaders = dataset_loaders(dataset_group=DatasetGroup.small)\n",
    "loaders.keys()"
   ]
  },
  {
   "cell_type": "code",
   "execution_count": null,
   "id": "44d595c3-31a3-4256-a425-77866fc59b13",
   "metadata": {},
   "outputs": [],
   "source": []
  },
  {
   "cell_type": "code",
   "execution_count": 44,
   "id": "085f8403-1a9f-4117-b4ab-22bbe160f480",
   "metadata": {},
   "outputs": [],
   "source": [
    "random_state=42\n",
    "dataset_name = 'fmnist' #'cifar_10'\n",
    "data, targets = loaders[dataset_name](data_path)"
   ]
  },
  {
   "cell_type": "code",
   "execution_count": null,
   "id": "794e8a08-d657-4d57-b627-c37fd8c623d0",
   "metadata": {},
   "outputs": [],
   "source": []
  }
 ],
 "metadata": {
  "kernelspec": {
   "display_name": "Python 3 (ipykernel)",
   "language": "python",
   "name": "python3"
  },
  "language_info": {
   "codemirror_mode": {
    "name": "ipython",
    "version": 3
   },
   "file_extension": ".py",
   "mimetype": "text/x-python",
   "name": "python",
   "nbconvert_exporter": "python",
   "pygments_lexer": "ipython3",
   "version": "3.10.16"
  }
 },
 "nbformat": 4,
 "nbformat_minor": 5
}

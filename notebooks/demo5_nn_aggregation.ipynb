{
 "cells": [
  {
   "cell_type": "markdown",
   "id": "square-locking",
   "metadata": {
    "tags": []
   },
   "source": [
    "# Demo 5: NN aggregation"
   ]
  },
  {
   "cell_type": "code",
   "execution_count": null,
   "id": "maritime-estonia",
   "metadata": {},
   "outputs": [],
   "source": [
    "import matplotlib.pyplot as plt\n",
    "from torchvision.datasets import CIFAR10\n",
    "\n",
    "from hnne import HNNE"
   ]
  },
  {
   "cell_type": "markdown",
   "id": "taken-sacramento",
   "metadata": {
    "tags": []
   },
   "source": [
    "## CIFAR-10 train\n",
    "50000 examples of 32x32 RGB images"
   ]
  },
  {
   "cell_type": "markdown",
   "id": "useful-flush",
   "metadata": {},
   "source": [
    "### Download and load the data"
   ]
  },
  {
   "cell_type": "code",
   "execution_count": null,
   "id": "scenic-logic",
   "metadata": {},
   "outputs": [],
   "source": [
    "cifar10_train = CIFAR10(root='.', download=True, train=True)"
   ]
  },
  {
   "cell_type": "code",
   "execution_count": null,
   "id": "minimal-banks",
   "metadata": {},
   "outputs": [],
   "source": [
    "data = cifar10_train.data.reshape((len(cifar10_train.data), -1))\n",
    "targets = cifar10_train.targets\n",
    "data.shape"
   ]
  },
  {
   "cell_type": "code",
   "execution_count": 2,
   "id": "bacterial-revision",
   "metadata": {},
   "outputs": [],
   "source": [
    "nn_aggregation_schemes = [\n",
    "    (),\n",
    "    (\n",
    "        (2, 5)\n",
    "    ),\n",
    "    (\n",
    "        (2, 5),\n",
    "        (2, 5)\n",
    "    ),\n",
    "    (\n",
    "        (2, 5),\n",
    "        (2, 5),\n",
    "        (2, 5)\n",
    "    ),\n",
    "]"
   ]
  },
  {
   "cell_type": "code",
   "execution_count": 15,
   "id": "interesting-species",
   "metadata": {},
   "outputs": [],
   "source": [
    "for agg_scheme in nn_aggregation_schemes:\n",
    "    hnne = HNNE(nn_aggregation_scheme=agg_scheme)\n",
    "    projection = hnne.fit_transform(data)\n",
    "\n",
    "    plt.figure(figsize=(10, 10))\n",
    "    plt.scatter(*projection.T, s=1, c=targets, cmap='Spectral')\n",
    "    plt.show()"
   ]
  }
 ],
 "metadata": {
  "kernelspec": {
   "display_name": "Python 3",
   "language": "python",
   "name": "python3"
  },
  "language_info": {
   "codemirror_mode": {
    "name": "ipython",
    "version": 3
   },
   "file_extension": ".py",
   "mimetype": "text/x-python",
   "name": "python",
   "nbconvert_exporter": "python",
   "pygments_lexer": "ipython3",
   "version": "3.9.2+"
  }
 },
 "nbformat": 4,
 "nbformat_minor": 5
}

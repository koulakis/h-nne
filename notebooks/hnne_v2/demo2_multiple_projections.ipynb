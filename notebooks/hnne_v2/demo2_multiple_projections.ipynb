{
 "cells": [
  {
   "cell_type": "markdown",
   "id": "a3db7f5e",
   "metadata": {},
   "source": [
    "# Demo 2: Multiple projections\n",
    "Below we project the CIFAR-10 dataset multiple times to different dimensions. This is a great use-case to demonstrate the speed of h-NNE, as most of the time is consumed in building a hierarchy while the actual projection is really fast."
   ]
  },
  {
   "cell_type": "code",
   "execution_count": 4,
   "id": "59d6f04c",
   "metadata": {},
   "outputs": [],
   "source": [
    "import matplotlib.pyplot as plt\n",
    "from torchvision.datasets import CIFAR10\n",
    "\n",
    "from hnne import HNNE"
   ]
  },
  {
   "cell_type": "markdown",
   "id": "c80108e6",
   "metadata": {},
   "source": [
    "## Load the CIFAR-10 train dataset\n",
    "50000 examples of 32x32 RGB images"
   ]
  },
  {
   "cell_type": "code",
   "execution_count": null,
   "id": "e6c38a7b-886d-443b-864c-d67783d71ad3",
   "metadata": {},
   "outputs": [],
   "source": []
  },
  {
   "cell_type": "code",
   "execution_count": 5,
   "id": "feeaf44f",
   "metadata": {},
   "outputs": [],
   "source": [
    "# Use this line to select the test set: cifar10 = CIFAR10(root='.', download=True, train=False)\n",
    "cifar10 = CIFAR10(root='..', download=True, train=True)"
   ]
  },
  {
   "cell_type": "code",
   "execution_count": 6,
   "id": "47d4cd7a",
   "metadata": {},
   "outputs": [
    {
     "data": {
      "text/plain": [
       "(50000, 3072)"
      ]
     },
     "execution_count": 6,
     "metadata": {},
     "output_type": "execute_result"
    }
   ],
   "source": [
    "cifar10_data = cifar10.data.reshape((len(cifar10.data), -1))\n",
    "cifar10_data.shape"
   ]
  },
  {
   "cell_type": "markdown",
   "id": "f2065a15",
   "metadata": {},
   "source": [
    "## Project the same dataset to 2, 4, 8, 16, 32 and 62 dimensions\n",
    "Once the HNNE object is initialized and the hierarchy has been build, one can run `fit_transform` multiple times setting different dimension with `override_n_components`.\n",
    "The hierarchy will be built once and only thehnne projection will be applied for each different dimension."
   ]
  },
  {
   "cell_type": "code",
   "execution_count": 14,
   "id": "f28e7494",
   "metadata": {},
   "outputs": [
    {
     "name": "stdout",
     "output_type": "stream",
     "text": [
      "CPU times: user 29 s, sys: 3.5 s, total: 32.5 s\n",
      "Wall time: 3.62 s\n"
     ]
    }
   ],
   "source": [
    "%%time\n",
    "hnne = HNNE(hnne_version=\"v2\")\n",
    "_ = hnne.fit_only_hierarchy(cifar10_data)"
   ]
  },
  {
   "cell_type": "code",
   "execution_count": 15,
   "id": "a2c01376",
   "metadata": {},
   "outputs": [
    {
     "name": "stdout",
     "output_type": "stream",
     "text": [
      "Projecting to 2 dimensions...\n",
      "Projecting to 4 dimensions...\n",
      "Projecting to 8 dimensions...\n",
      "Projecting to 16 dimensions...\n",
      "Projecting to 32 dimensions...\n",
      "CPU times: user 5min 9s, sys: 2min 15s, total: 7min 24s\n",
      "Wall time: 51.6 s\n"
     ]
    }
   ],
   "source": [
    "%%time\n",
    "projections = []\n",
    "for dim in [2, 4, 8, 16, 32]:\n",
    "    print(f'Projecting to {dim} dimensions...')\n",
    "    projection = hnne.fit_transform(cifar10_data, override_n_components=dim)\n",
    "    projections.append(projection)"
   ]
  },
  {
   "cell_type": "code",
   "execution_count": 16,
   "id": "225ede77",
   "metadata": {},
   "outputs": [
    {
     "name": "stdout",
     "output_type": "stream",
     "text": [
      "(50000, 2)\n",
      "(50000, 4)\n",
      "(50000, 8)\n",
      "(50000, 16)\n",
      "(50000, 32)\n"
     ]
    }
   ],
   "source": [
    "for projection in projections:\n",
    "    print(projection.shape)"
   ]
  },
  {
   "cell_type": "markdown",
   "id": "609eba0f-dccc-4404-aa9b-f8462b9a5170",
   "metadata": {},
   "source": [
    "## Project new datasets to 2, 4, 8, 16, 32 and 62 dimensions\n",
    "It could be desired to project multiple new datasets to different dimensions. One might be tempted to do this directly, which is not possible. One needs instead to re-project the original dataset to each dimension and then apply the `transform` method. Below is a code example."
   ]
  },
  {
   "cell_type": "code",
   "execution_count": 17,
   "id": "3c0959c0-01f0-48d2-88e3-1ded40745c5f",
   "metadata": {},
   "outputs": [],
   "source": [
    "# Use this line to select the test set: cifar10 = CIFAR10(root='.', download=True, train=False)\n",
    "cifar10_test = CIFAR10(root='.', download=True, train=False)"
   ]
  },
  {
   "cell_type": "code",
   "execution_count": 18,
   "id": "5fd1f07c-71c9-431d-8fd3-52834a9df952",
   "metadata": {},
   "outputs": [
    {
     "data": {
      "text/plain": [
       "(10000, 3072)"
      ]
     },
     "execution_count": 18,
     "metadata": {},
     "output_type": "execute_result"
    }
   ],
   "source": [
    "cifar10_test_data = cifar10_test.data.reshape((len(cifar10_test.data), -1))\n",
    "cifar10_test_data.shape"
   ]
  },
  {
   "cell_type": "code",
   "execution_count": 19,
   "id": "8a4f88d0-876a-410e-a3a0-b5e93f1442f1",
   "metadata": {},
   "outputs": [
    {
     "name": "stdout",
     "output_type": "stream",
     "text": [
      "Projecting to 2 dimensions...\n",
      "Projecting to 4 dimensions...\n",
      "Projecting to 8 dimensions...\n",
      "Projecting to 16 dimensions...\n",
      "Projecting to 32 dimensions...\n",
      "CPU times: user 5min 44s, sys: 2min 23s, total: 8min 7s\n",
      "Wall time: 55.6 s\n"
     ]
    }
   ],
   "source": [
    "%%time\n",
    "projections_new_data = []\n",
    "for dim in [2, 4, 8, 16, 32]:\n",
    "    print(f'Projecting to {dim} dimensions...')\n",
    "    # First re-build a projection of the original dataset to the desired dimension.\n",
    "    _ = hnne.fit_transform(cifar10_data, override_n_components=dim)\n",
    "\n",
    "    # The run transform on the new data.\n",
    "    projection_new_data = hnne.transform(cifar10_test_data)\n",
    "    \n",
    "    projections_new_data.append(projection_new_data)"
   ]
  },
  {
   "cell_type": "code",
   "execution_count": 20,
   "id": "75af8b20-9f7a-4b23-a479-0aa717239fe2",
   "metadata": {},
   "outputs": [
    {
     "name": "stdout",
     "output_type": "stream",
     "text": [
      "(10000, 2)\n",
      "(10000, 4)\n",
      "(10000, 8)\n",
      "(10000, 16)\n",
      "(10000, 32)\n"
     ]
    }
   ],
   "source": [
    "for projection in projections_new_data:\n",
    "    print(projection.shape)"
   ]
  },
  {
   "cell_type": "code",
   "execution_count": null,
   "id": "f178a4e2-b172-4e82-b2f8-4ca05458e3e4",
   "metadata": {},
   "outputs": [],
   "source": []
  },
  {
   "cell_type": "code",
   "execution_count": null,
   "id": "5f51348e-776b-451f-aba2-8f5eef5008e4",
   "metadata": {},
   "outputs": [],
   "source": []
  }
 ],
 "metadata": {
  "kernelspec": {
   "display_name": "Python (vec-faiss)",
   "language": "python",
   "name": "vec-faiss"
  },
  "language_info": {
   "codemirror_mode": {
    "name": "ipython",
    "version": 3
   },
   "file_extension": ".py",
   "mimetype": "text/x-python",
   "name": "python",
   "nbconvert_exporter": "python",
   "pygments_lexer": "ipython3",
   "version": "3.10.16"
  }
 },
 "nbformat": 4,
 "nbformat_minor": 5
}

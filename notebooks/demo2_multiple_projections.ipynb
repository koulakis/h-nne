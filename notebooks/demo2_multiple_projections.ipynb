{
 "cells": [
  {
   "cell_type": "markdown",
   "id": "a3db7f5e",
   "metadata": {},
   "source": [
    "# Demo 2: Multiple projections\n",
    "Below we project the CIFAR-10 dataset multiple times to different dimensions. This is a great use-case to demonstrate the speed of h-NNE, as most of the time is consumed in building a hierarchy while the actual projection is really fast."
   ]
  },
  {
   "cell_type": "code",
   "execution_count": 2,
   "id": "59d6f04c",
   "metadata": {},
   "outputs": [],
   "source": [
    "import matplotlib.pyplot as plt\n",
    "from torchvision.datasets import CIFAR10\n",
    "\n",
    "from hnne import HNNE"
   ]
  },
  {
   "cell_type": "markdown",
   "id": "c80108e6",
   "metadata": {},
   "source": [
    "## Load the CIFAR-10 train dataset\n",
    "50000 examples of 32x32 RGB images"
   ]
  },
  {
   "cell_type": "code",
   "execution_count": 3,
   "id": "feeaf44f",
   "metadata": {},
   "outputs": [
    {
     "name": "stdout",
     "output_type": "stream",
     "text": [
      "Files already downloaded and verified\n"
     ]
    }
   ],
   "source": [
    "# Use this line to select the test set: cifar10 = CIFAR10(root='.', download=True, train=False)\n",
    "cifar10 = CIFAR10(root='.', download=True, train=True)"
   ]
  },
  {
   "cell_type": "code",
   "execution_count": 4,
   "id": "47d4cd7a",
   "metadata": {},
   "outputs": [
    {
     "data": {
      "text/plain": [
       "(50000, 3072)"
      ]
     },
     "execution_count": 4,
     "metadata": {},
     "output_type": "execute_result"
    }
   ],
   "source": [
    "cifar10_data = cifar10.data.reshape((len(cifar10.data), -1))\n",
    "cifar10_data.shape"
   ]
  },
  {
   "cell_type": "markdown",
   "id": "f2065a15",
   "metadata": {},
   "source": [
    "## Project to 2, 4, 8, 16, 32 and 62 dimensions"
   ]
  },
  {
   "cell_type": "code",
   "execution_count": 5,
   "id": "f28e7494",
   "metadata": {},
   "outputs": [
    {
     "name": "stdout",
     "output_type": "stream",
     "text": [
      "CPU times: user 1min 49s, sys: 19.8 s, total: 2min 9s\n",
      "Wall time: 16.8 s\n"
     ]
    }
   ],
   "source": [
    "%%time\n",
    "hnne = HNNE()\n",
    "_ = hnne.fit_only_hierarchy(cifar10_data)"
   ]
  },
  {
   "cell_type": "code",
   "execution_count": 6,
   "id": "a2c01376",
   "metadata": {},
   "outputs": [
    {
     "name": "stdout",
     "output_type": "stream",
     "text": [
      "Projecting to 2 dimensions...\n",
      "Projecting to 4 dimensions...\n",
      "Projecting to 8 dimensions...\n",
      "Projecting to 16 dimensions...\n",
      "Projecting to 32 dimensions...\n",
      "CPU times: user 9min 28s, sys: 4min 30s, total: 13min 58s\n",
      "Wall time: 42.1 s\n"
     ]
    }
   ],
   "source": [
    "%%time\n",
    "projections = []\n",
    "for dim in [2, 4, 8, 16, 32]:\n",
    "    print(f'Projecting to {dim} dimensions...')\n",
    "    projection = hnne.fit_transform(cifar10_data, n_components=dim)\n",
    "    projections.append(projection)"
   ]
  },
  {
   "cell_type": "code",
   "execution_count": 7,
   "id": "225ede77",
   "metadata": {},
   "outputs": [
    {
     "name": "stdout",
     "output_type": "stream",
     "text": [
      "(50000, 2)\n",
      "(50000, 4)\n",
      "(50000, 8)\n",
      "(50000, 16)\n",
      "(50000, 32)\n"
     ]
    }
   ],
   "source": [
    "for projection in projections:\n",
    "    print(projection.shape)"
   ]
  }
 ],
 "metadata": {
  "kernelspec": {
   "display_name": "Python 3 (ipykernel)",
   "language": "python",
   "name": "python3"
  },
  "language_info": {
   "codemirror_mode": {
    "name": "ipython",
    "version": 3
   },
   "file_extension": ".py",
   "mimetype": "text/x-python",
   "name": "python",
   "nbconvert_exporter": "python",
   "pygments_lexer": "ipython3",
   "version": "3.7.10"
  }
 },
 "nbformat": 4,
 "nbformat_minor": 5
}
